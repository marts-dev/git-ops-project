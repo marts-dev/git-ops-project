{
 "cells": [
  {
   "cell_type": "code",
   "execution_count": 1,
   "metadata": {},
   "outputs": [],
   "source": [
    "import os\n",
    "from ghapi.core import GhApi"
   ]
  },
  {
   "cell_type": "code",
   "execution_count": 2,
   "metadata": {},
   "outputs": [
    {
     "data": {
      "text/plain": [
       "True"
      ]
     },
     "execution_count": 2,
     "metadata": {},
     "output_type": "execute_result"
    }
   ],
   "source": [
    "import dotenv\n",
    "dotenv.load_dotenv()"
   ]
  },
  {
   "cell_type": "code",
   "execution_count": 4,
   "metadata": {},
   "outputs": [],
   "source": [
    "api = GhApi(owner=\"marts-dev\", repo=\"git-ops-project\")"
   ]
  },
  {
   "cell_type": "code",
   "execution_count": 9,
   "metadata": {},
   "outputs": [
    {
     "name": "stdout",
     "output_type": "stream",
     "text": [
      "Update learning rate 3 https://github.com/marts-dev/git-ops-project/pull/3\n"
     ]
    }
   ],
   "source": [
    "for pr in api.pulls.list():\n",
    "  print(pr.title, pr.number, pr.html_url)"
   ]
  },
  {
   "cell_type": "markdown",
   "metadata": {},
   "source": [
    "## Make a comment on a pull request"
   ]
  },
  {
   "cell_type": "code",
   "execution_count": 10,
   "metadata": {},
   "outputs": [],
   "source": [
    "comment = api.issues.create_comment(3, \"Hi! this is a comment made with 'ghapi'.\")"
   ]
  },
  {
   "cell_type": "code",
   "execution_count": 11,
   "metadata": {},
   "outputs": [
    {
     "data": {
      "text/plain": [
       "'https://github.com/marts-dev/git-ops-project/pull/3#issuecomment-2170497731'"
      ]
     },
     "execution_count": 11,
     "metadata": {},
     "output_type": "execute_result"
    }
   ],
   "source": [
    "comment.html_url"
   ]
  },
  {
   "cell_type": "markdown",
   "metadata": {},
   "source": [
    "## Label a Pull request"
   ]
  },
  {
   "cell_type": "code",
   "execution_count": 12,
   "metadata": {},
   "outputs": [],
   "source": [
    "label = api.issues.add_labels(3, labels=['wandb', 'demo'])"
   ]
  },
  {
   "cell_type": "code",
   "execution_count": 14,
   "metadata": {},
   "outputs": [
    {
     "data": {
      "text/plain": [
       "(#2) [{'id': 7086331714, 'node_id': 'LA_kwDOMBURFs8AAAABpmDXQg', 'url': 'https://api.github.com/repos/marts-dev/git-ops-project/labels/wandb', 'name': 'wandb', 'color': 'ededed', 'default': False, 'description': None},{'id': 7086331716, 'node_id': 'LA_kwDOMBURFs8AAAABpmDXRA', 'url': 'https://api.github.com/repos/marts-dev/git-ops-project/labels/demo', 'name': 'demo', 'color': 'ededed', 'default': False, 'description': None}]"
      ]
     },
     "execution_count": 14,
     "metadata": {},
     "output_type": "execute_result"
    }
   ],
   "source": [
    "label"
   ]
  },
  {
   "cell_type": "code",
   "execution_count": 16,
   "metadata": {},
   "outputs": [],
   "source": [
    "label = api.issues.create_label(name='my-custom-label', color='f29513')"
   ]
  },
  {
   "cell_type": "code",
   "execution_count": 17,
   "metadata": {},
   "outputs": [
    {
     "data": {
      "text/plain": [
       "(#3) [{'id': 7086331714, 'node_id': 'LA_kwDOMBURFs8AAAABpmDXQg', 'url': 'https://api.github.com/repos/marts-dev/git-ops-project/labels/wandb', 'name': 'wandb', 'color': 'ededed', 'default': False, 'description': None},{'id': 7086331716, 'node_id': 'LA_kwDOMBURFs8AAAABpmDXRA', 'url': 'https://api.github.com/repos/marts-dev/git-ops-project/labels/demo', 'name': 'demo', 'color': 'ededed', 'default': False, 'description': None},{'id': 7086342403, 'node_id': 'LA_kwDOMBURFs8AAAABpmEBAw', 'url': 'https://api.github.com/repos/marts-dev/git-ops-project/labels/my-custom-label', 'name': 'my-custom-label', 'color': 'f29513', 'default': False, 'description': None}]"
      ]
     },
     "execution_count": 17,
     "metadata": {},
     "output_type": "execute_result"
    }
   ],
   "source": [
    "api.issues.add_labels(3, labels=['my-custom-label'])"
   ]
  },
  {
   "cell_type": "code",
   "execution_count": null,
   "metadata": {},
   "outputs": [],
   "source": []
  }
 ],
 "metadata": {
  "kernelspec": {
   "display_name": "privateGpt",
   "language": "python",
   "name": "python3"
  },
  "language_info": {
   "codemirror_mode": {
    "name": "ipython",
    "version": 3
   },
   "file_extension": ".py",
   "mimetype": "text/x-python",
   "name": "python",
   "nbconvert_exporter": "python",
   "pygments_lexer": "ipython3",
   "version": "3.10.12"
  }
 },
 "nbformat": 4,
 "nbformat_minor": 2
}
